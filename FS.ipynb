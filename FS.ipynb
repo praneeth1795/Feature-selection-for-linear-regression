{
 "cells": [
  {
   "cell_type": "markdown",
   "metadata": {},
   "source": [
    "# Importing Libraries"
   ]
  },
  {
   "cell_type": "code",
   "execution_count": 1,
   "metadata": {},
   "outputs": [],
   "source": [
    "import warnings\n",
    "warnings.filterwarnings('ignore')\n",
    "import pandas as pd\n",
    "import statsmodels.api as sm\n",
    "import statsmodels.formula.api as smf"
   ]
  },
  {
   "cell_type": "markdown",
   "metadata": {},
   "source": [
    "# Reading the dataset"
   ]
  },
  {
   "cell_type": "code",
   "execution_count": 2,
   "metadata": {},
   "outputs": [],
   "source": [
    "dataset = pd.read_csv('Advertising.csv')"
   ]
  },
  {
   "cell_type": "markdown",
   "metadata": {},
   "source": [
    "# Fitting the linear regression model"
   ]
  },
  {
   "cell_type": "markdown",
   "metadata": {},
   "source": [
    "Three linear regression models were created with each feature data and label as training data"
   ]
  },
  {
   "cell_type": "code",
   "execution_count": 3,
   "metadata": {},
   "outputs": [],
   "source": [
    "est_TV = smf.ols('sales ~ TV', dataset).fit()\n",
    "est_radio = smf.ols('sales ~ radio', dataset).fit()\n",
    "est_newspaper = smf.ols('sales ~ newspaper', dataset).fit()"
   ]
  },
  {
   "cell_type": "markdown",
   "metadata": {},
   "source": [
    "RSS is the metric used here to determine the effectiveness of the model"
   ]
  },
  {
   "cell_type": "code",
   "execution_count": 4,
   "metadata": {},
   "outputs": [],
   "source": [
    "RSS_TV = ((dataset.sales - (est_TV.params[0] + est_TV.params[1]*dataset.TV))**2).sum()\n",
    "RSS_radio = ((dataset.sales - (est_radio.params[0] + est_radio.params[1]*dataset.radio))**2).sum()\n",
    "RSS_newspaper = ((dataset.sales - (est_newspaper.params[0] + est_newspaper.params[1]*dataset.newspaper))**2).sum()\n",
    "RSS_threshold = 600"
   ]
  },
  {
   "cell_type": "markdown",
   "metadata": {},
   "source": [
    "Assume that the dataset has P features\n",
    "\n",
    "# Forward Selection algorithm\n",
    "\n",
    "1. Start with a nul lmodel\n",
    "2. Search all P linear regression models and add to th null model, the variable with the lowest RSS.\n",
    "3. Search all p-1 linear regressions using the selected variable and the new one.\n",
    "4. Continue the process until the RSS value obtained is below the desired threshold"
   ]
  },
  {
   "cell_type": "code",
   "execution_count": 5,
   "metadata": {},
   "outputs": [],
   "source": [
    "if (RSS_TV < RSS_radio)and(RSS_TV < RSS_newspaper):\n",
    "    RSS_MIN = RSS_TV\n",
    "elif (RSS_radio < RSS_newspaper):\n",
    "    RSS_MIN = RSS_radio\n",
    "else:\n",
    "    RSS_MIN = RSS_newspaper"
   ]
  },
  {
   "cell_type": "code",
   "execution_count": 6,
   "metadata": {},
   "outputs": [],
   "source": [
    "if (RSS_MIN == RSS_TV):\n",
    "    est_1 = smf.ols('sales ~ TV + radio', dataset).fit()\n",
    "    est_2 = smf.ols('sales ~ TV + newspaper', dataset).fit()\n",
    "    RSS_1 = ((dataset.sales - (est_1.params[0] + est_1.params[1]*dataset.TV + est_1.params[2]*dataset.radio))**2).sum()\n",
    "    RSS_2 = ((dataset.sales - (est_2.params[0] + est_2.params[1]*dataset.TV + est_2.params[2]*dataset.newspaper))**2).sum()\n",
    "    if (RSS_1 < RSS_2):\n",
    "        if(RSS_1 < RSS_threshold):\n",
    "            est_3 = est_1 = smf.ols('sales ~ TV + radio + newspaper', dataset).fit()\n",
    "            RSS_3 = ((dataset.sales - (est_3.params[0] + est_3.params[1]*dataset.TV + est_3.params[2]*dataset.radio + est_3.params[3]*dataset.newspaper))**2).sum()\n",
    "            if(RSS_3 < RSS_threshold):\n",
    "                RSS = RSS_3\n",
    "                est = est_3\n",
    "            else:\n",
    "                RSS = RSS_1\n",
    "                est = est_1\n",
    "        else:\n",
    "            RSS = RSS_MIN\n",
    "            est = est_TV\n",
    "    else:\n",
    "        if(RSS_2 < RSS_threshold):\n",
    "            est_3 = est_1 = smf.ols('sales ~ TV + newspaper + radio', dataset).fit()\n",
    "            RSS_3 = ((dataset.sales - (est_3.params[0] + est_3.params[1]*dataset.TV + est_3.params[2]*dataset.newspaper + est_3.params[3]*dataset.radio))**2).sum()\n",
    "            if(RSS_3 < RSS_threshold):\n",
    "                RSS = RSS_3\n",
    "                est = est_3\n",
    "            else:\n",
    "                RSS = RSS_2\n",
    "                est = est_2\n",
    "        else:\n",
    "            RSS = RSS_MIN\n",
    "            est = est_TV\n",
    "elif (RSS_MIN == RSS_radio):\n",
    "    est_1 = smf.ols('sales ~ radio + TV', dataset).fit()\n",
    "    est_2 = smf.ols('sales ~ radio + newspaper', dataset).fit()\n",
    "    RSS_1 = ((dataset.sales - (est_1.params[0] + est_1.params[1]*dataset.radio + est_1.params[2]*dataset.TV))**2).sum()\n",
    "    RSS_2 = ((dataset.sales - (est_2.params[0] + est_2.params[1]*dataset.radio + est_2.params[2]*dataset.newspaper))**2).sum()\n",
    "    if (RSS_1 < RSS_2):\n",
    "        if(RSS_1 < RSS_threshold):\n",
    "            est_3 = est_1 = smf.ols('sales ~ radio + TV + newspaper', dataset).fit()\n",
    "            RSS_3 = ((dataset.sales - (est_3.params[0] + est_3.params[1]*dataset.radio + est_3.params[2]*dataset.TV + est_3.params[3]*dataset.newspaper))**2).sum()\n",
    "            if(RSS_3 < RSS_threshold):\n",
    "                RSS = RSS_3\n",
    "                est = est_3\n",
    "            else:\n",
    "                RSS = RSS_1\n",
    "                est = est_1\n",
    "        else:\n",
    "            RSS = RSS_MIN\n",
    "            est = est_radio\n",
    "    else:\n",
    "        if(RSS_2 < RSS_threshold):\n",
    "            est_3 = est_1 = smf.ols('sales ~ radio + newspaper + TV', dataset).fit()\n",
    "            RSS_3 = ((dataset.sales - (est_3.params[0] + est_3.params[1]*dataset.radio + est_3.params[2]*dataset.newspaper + est_3.params[3]*dataset.TV))**2).sum()\n",
    "            if(RSS_3 < RSS_threshold):\n",
    "                RSS = RSS_3\n",
    "                est = est_3\n",
    "            else:\n",
    "                RSS = RSS_2\n",
    "                est = est_2\n",
    "        else:\n",
    "            RSS = RSS_MIN\n",
    "            est = est_radio\n",
    "else:\n",
    "    est_1 = smf.ols('sales ~ newspaper + TV', dataset).fit()\n",
    "    est_2 = smf.ols('sales ~ newspaper + radio', dataset).fit()\n",
    "    RSS_1 = ((dataset.sales - (est_1.params[0] + est_1.params[1]*dataset.newspaper + est_1.params[2]*dataset.TV))**2).sum()\n",
    "    RSS_2 = ((dataset.sales - (est_2.params[0] + est_2.params[1]*dataset.newspaper + est_2.params[2]*dataset.radio))**2).sum()\n",
    "    if (RSS_1 < RSS_2):\n",
    "        if(RSS_1 < RSS_threshold):\n",
    "            est_3 = est_1 = smf.ols('sales ~ newspaper + TV + radio', dataset).fit()\n",
    "            RSS_3 = ((dataset.sales - (est_3.params[0] + est_3.params[1]*dataset.newspaper + est_3.params[2]*dataset.TV + est_3.params[3]*dataset.radio))**2).sum()\n",
    "            if(RSS_3 < RSS_threshold):\n",
    "                RSS = RSS_3\n",
    "                est = est_3\n",
    "            else:\n",
    "                RSS = RSS_1\n",
    "                est = est_1\n",
    "        else:\n",
    "            RSS = RSS_MIN\n",
    "            est = est_newspaper\n",
    "    else:\n",
    "        if(RSS_2 < RSS_threshold):\n",
    "            est_3 = est_1 = smf.ols('sales ~ newspaper + radio + TV', dataset).fit()\n",
    "            RSS_3 = ((dataset.sales - (est_3.params[0] + est_3.params[1]*dataset.newspaper + est_3.params[2]*dataset.radio + est_3.params[3]*dataset.TV))**2).sum()\n",
    "            if(RSS_3 < RSS_threshold):\n",
    "                RSS = RSS_3\n",
    "                est = est_3\n",
    "            else:\n",
    "                RSS = RSS_2\n",
    "                est = est_2\n",
    "        else:\n",
    "            RSS = RSS_MIN\n",
    "            est = est_newspaper"
   ]
  },
  {
   "cell_type": "code",
   "execution_count": 7,
   "metadata": {},
   "outputs": [
    {
     "data": {
      "text/plain": [
       "556.8252629021873"
      ]
     },
     "execution_count": 7,
     "metadata": {},
     "output_type": "execute_result"
    }
   ],
   "source": [
    "RSS  # resultant RSS"
   ]
  },
  {
   "cell_type": "code",
   "execution_count": 8,
   "metadata": {},
   "outputs": [
    {
     "data": {
      "text/plain": [
       "Intercept    2.938889\n",
       "TV           0.045765\n",
       "radio        0.188530\n",
       "newspaper   -0.001037\n",
       "dtype: float64"
      ]
     },
     "execution_count": 8,
     "metadata": {},
     "output_type": "execute_result"
    }
   ],
   "source": [
    "est.params"
   ]
  },
  {
   "cell_type": "code",
   "execution_count": null,
   "metadata": {},
   "outputs": [],
   "source": []
  }
 ],
 "metadata": {
  "kernelspec": {
   "display_name": "Python 3",
   "language": "python",
   "name": "python3"
  },
  "language_info": {
   "codemirror_mode": {
    "name": "ipython",
    "version": 3
   },
   "file_extension": ".py",
   "mimetype": "text/x-python",
   "name": "python",
   "nbconvert_exporter": "python",
   "pygments_lexer": "ipython3",
   "version": "3.6.5"
  }
 },
 "nbformat": 4,
 "nbformat_minor": 2
}
