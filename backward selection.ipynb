{
 "cells": [
  {
   "cell_type": "markdown",
   "metadata": {},
   "source": [
    "# Importing libraries"
   ]
  },
  {
   "cell_type": "code",
   "execution_count": 1,
   "metadata": {},
   "outputs": [],
   "source": [
    "import warnings\n",
    "warnings.filterwarnings('ignore')\n",
    "import pandas as pd\n",
    "import statsmodels.api as sm\n",
    "import statsmodels.formula.api as smf"
   ]
  },
  {
   "cell_type": "markdown",
   "metadata": {},
   "source": [
    "# Reading the dataset"
   ]
  },
  {
   "cell_type": "code",
   "execution_count": 2,
   "metadata": {},
   "outputs": [],
   "source": [
    "dataset = pd.read_csv('Advertising.csv')"
   ]
  },
  {
   "cell_type": "markdown",
   "metadata": {},
   "source": [
    "Assume that the dataset has P features\n",
    "\n",
    "# Backward Selection algorithm\n",
    "\n",
    "1. Start with all variable model\n",
    "2. We remove the variable with the largest P value.\n",
    "3. Create a new model by fitting the (p-1) variable data and remove the variable with largest p value.\n",
    "4. Continue the process until all variables have a p value below threshold."
   ]
  },
  {
   "cell_type": "code",
   "execution_count": 3,
   "metadata": {},
   "outputs": [],
   "source": [
    "est = smf.ols('sales ~ TV + radio + newspaper', dataset).fit()\n",
    "p_threshold = 0.05"
   ]
  },
  {
   "cell_type": "code",
   "execution_count": 4,
   "metadata": {},
   "outputs": [],
   "source": [
    "if(est.pvalues[1] > est.pvalues[2]) and (est.pvalues[1] > est.pvalues[3]):\n",
    "    if(est.pvalues[1] > p_threshold):\n",
    "        est = smf.ols('sales ~ radio + newspaper', dataset).fit()\n",
    "        if(est.pvalues[1] > est.pvalues[2]):\n",
    "            if(est.pvalues[1] > p_threshold):\n",
    "                est = smf.ols('sales ~ newspaper', dataset).fit()\n",
    "            else:\n",
    "                est = smf.ols('sales ~ radio + newspaper', dataset).fit()\n",
    "        else:\n",
    "            if(est.pvalues[2] > p_threshold):\n",
    "                est = smf.ols('sales ~ radio', dataset).fit()\n",
    "            else:\n",
    "                est = smf.ols('sales ~ radio + newspaper', dataset).fit()\n",
    "    else:\n",
    "        est = smf.ols('sales ~ TV + radio + newspaper', dataset).fit()\n",
    "        \n",
    "elif(est.pvalues[2] > est.pvalues[3]):\n",
    "    if(est.pvalues[2] > p_threshold):\n",
    "        est = smf.ols('sales ~ TV + newspaper', dataset).fit()\n",
    "        if(est.pvalues[1] > est.pvalues[2]):\n",
    "            if(est.pvalues[1] > p_threshold):\n",
    "                est = smf.ols('sales ~ newspaper', dataset).fit()\n",
    "            else:\n",
    "                est = smf.ols('sales ~ TV + newspaper', dataset).fit()\n",
    "        else:\n",
    "            if(est.pvalues[2] > p_threshold):\n",
    "                est = smf.ols('sales ~ TV', dataset).fit()\n",
    "            else:\n",
    "                est = smf.ols('sales ~ TV + newspaper', dataset).fit()\n",
    "    else:\n",
    "        est = smf.ols('sales ~ TV + radio + newspaper', dataset).fit()\n",
    "else:\n",
    "    if(est.pvalues[3] > p_threshold):\n",
    "        est = smf.ols('sales ~ TV + radio', dataset).fit()\n",
    "        if(est.pvalues[1] > est.pvalues[2]):\n",
    "            if(est.pvalues[1] > p_threshold):\n",
    "                est = smf.ols('sales ~ radio', dataset).fit()\n",
    "            else:\n",
    "                est = smf.ols('sales ~ TV + radio', dataset).fit()\n",
    "        else:\n",
    "            if(est.pvalues[2] > p_threshold):\n",
    "                est = smf.ols('sales ~ TV', dataset).fit()\n",
    "            else:\n",
    "                est = smf.ols('sales ~ TV + radio', dataset).fit()\n",
    "    else:\n",
    "        est = smf.ols('sales ~ TV + radio + newspaper', dataset).fit()    "
   ]
  },
  {
   "cell_type": "code",
   "execution_count": 5,
   "metadata": {},
   "outputs": [
    {
     "data": {
      "text/html": [
       "<table class=\"simpletable\">\n",
       "<caption>OLS Regression Results</caption>\n",
       "<tr>\n",
       "  <th>Dep. Variable:</th>          <td>sales</td>      <th>  R-squared:         </th> <td>   0.897</td>\n",
       "</tr>\n",
       "<tr>\n",
       "  <th>Model:</th>                   <td>OLS</td>       <th>  Adj. R-squared:    </th> <td>   0.896</td>\n",
       "</tr>\n",
       "<tr>\n",
       "  <th>Method:</th>             <td>Least Squares</td>  <th>  F-statistic:       </th> <td>   859.6</td>\n",
       "</tr>\n",
       "<tr>\n",
       "  <th>Date:</th>             <td>Tue, 05 Feb 2019</td> <th>  Prob (F-statistic):</th> <td>4.83e-98</td>\n",
       "</tr>\n",
       "<tr>\n",
       "  <th>Time:</th>                 <td>00:06:01</td>     <th>  Log-Likelihood:    </th> <td> -386.20</td>\n",
       "</tr>\n",
       "<tr>\n",
       "  <th>No. Observations:</th>      <td>   200</td>      <th>  AIC:               </th> <td>   778.4</td>\n",
       "</tr>\n",
       "<tr>\n",
       "  <th>Df Residuals:</th>          <td>   197</td>      <th>  BIC:               </th> <td>   788.3</td>\n",
       "</tr>\n",
       "<tr>\n",
       "  <th>Df Model:</th>              <td>     2</td>      <th>                     </th>     <td> </td>   \n",
       "</tr>\n",
       "<tr>\n",
       "  <th>Covariance Type:</th>      <td>nonrobust</td>    <th>                     </th>     <td> </td>   \n",
       "</tr>\n",
       "</table>\n",
       "<table class=\"simpletable\">\n",
       "<tr>\n",
       "      <td></td>         <th>coef</th>     <th>std err</th>      <th>t</th>      <th>P>|t|</th>  <th>[0.025</th>    <th>0.975]</th>  \n",
       "</tr>\n",
       "<tr>\n",
       "  <th>Intercept</th> <td>    2.9211</td> <td>    0.294</td> <td>    9.919</td> <td> 0.000</td> <td>    2.340</td> <td>    3.502</td>\n",
       "</tr>\n",
       "<tr>\n",
       "  <th>TV</th>        <td>    0.0458</td> <td>    0.001</td> <td>   32.909</td> <td> 0.000</td> <td>    0.043</td> <td>    0.048</td>\n",
       "</tr>\n",
       "<tr>\n",
       "  <th>radio</th>     <td>    0.1880</td> <td>    0.008</td> <td>   23.382</td> <td> 0.000</td> <td>    0.172</td> <td>    0.204</td>\n",
       "</tr>\n",
       "</table>\n",
       "<table class=\"simpletable\">\n",
       "<tr>\n",
       "  <th>Omnibus:</th>       <td>60.022</td> <th>  Durbin-Watson:     </th> <td>   2.081</td>\n",
       "</tr>\n",
       "<tr>\n",
       "  <th>Prob(Omnibus):</th> <td> 0.000</td> <th>  Jarque-Bera (JB):  </th> <td> 148.679</td>\n",
       "</tr>\n",
       "<tr>\n",
       "  <th>Skew:</th>          <td>-1.323</td> <th>  Prob(JB):          </th> <td>5.19e-33</td>\n",
       "</tr>\n",
       "<tr>\n",
       "  <th>Kurtosis:</th>      <td> 6.292</td> <th>  Cond. No.          </th> <td>    425.</td>\n",
       "</tr>\n",
       "</table><br/><br/>Warnings:<br/>[1] Standard Errors assume that the covariance matrix of the errors is correctly specified."
      ],
      "text/plain": [
       "<class 'statsmodels.iolib.summary.Summary'>\n",
       "\"\"\"\n",
       "                            OLS Regression Results                            \n",
       "==============================================================================\n",
       "Dep. Variable:                  sales   R-squared:                       0.897\n",
       "Model:                            OLS   Adj. R-squared:                  0.896\n",
       "Method:                 Least Squares   F-statistic:                     859.6\n",
       "Date:                Tue, 05 Feb 2019   Prob (F-statistic):           4.83e-98\n",
       "Time:                        00:06:01   Log-Likelihood:                -386.20\n",
       "No. Observations:                 200   AIC:                             778.4\n",
       "Df Residuals:                     197   BIC:                             788.3\n",
       "Df Model:                           2                                         \n",
       "Covariance Type:            nonrobust                                         \n",
       "==============================================================================\n",
       "                 coef    std err          t      P>|t|      [0.025      0.975]\n",
       "------------------------------------------------------------------------------\n",
       "Intercept      2.9211      0.294      9.919      0.000       2.340       3.502\n",
       "TV             0.0458      0.001     32.909      0.000       0.043       0.048\n",
       "radio          0.1880      0.008     23.382      0.000       0.172       0.204\n",
       "==============================================================================\n",
       "Omnibus:                       60.022   Durbin-Watson:                   2.081\n",
       "Prob(Omnibus):                  0.000   Jarque-Bera (JB):              148.679\n",
       "Skew:                          -1.323   Prob(JB):                     5.19e-33\n",
       "Kurtosis:                       6.292   Cond. No.                         425.\n",
       "==============================================================================\n",
       "\n",
       "Warnings:\n",
       "[1] Standard Errors assume that the covariance matrix of the errors is correctly specified.\n",
       "\"\"\""
      ]
     },
     "execution_count": 5,
     "metadata": {},
     "output_type": "execute_result"
    }
   ],
   "source": [
    "est.summary()"
   ]
  },
  {
   "cell_type": "code",
   "execution_count": null,
   "metadata": {},
   "outputs": [],
   "source": []
  }
 ],
 "metadata": {
  "kernelspec": {
   "display_name": "Python 3",
   "language": "python",
   "name": "python3"
  },
  "language_info": {
   "codemirror_mode": {
    "name": "ipython",
    "version": 3
   },
   "file_extension": ".py",
   "mimetype": "text/x-python",
   "name": "python",
   "nbconvert_exporter": "python",
   "pygments_lexer": "ipython3",
   "version": "3.6.5"
  }
 },
 "nbformat": 4,
 "nbformat_minor": 2
}
